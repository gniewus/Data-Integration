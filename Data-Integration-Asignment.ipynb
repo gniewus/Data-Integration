{
 "cells": [
  {
   "cell_type": "code",
   "execution_count": 198,
   "metadata": {
    "collapsed": true
   },
   "outputs": [],
   "source": [
    "import pandas as pd\n",
    "import re\n",
    "from __future__ import division"
   ]
  },
  {
   "cell_type": "code",
   "execution_count": 21,
   "metadata": {
    "collapsed": false
   },
   "outputs": [
    {
     "name": "stdout",
     "output_type": "stream",
     "text": [
      "The imdb shape: 6407 x 13\n",
      "The rt shape: 6407 x 13\n"
     ]
    }
   ],
   "source": [
    "im= pd.read_csv(\"./imdb.csv\");\n",
    "rt= pd.read_csv(\"./rotten_tomatoes.csv\");\n",
    "print('The imdb shape: %d x %d' % im.shape)\n",
    "print('The rt shape: %d x %d' % im.shape)"
   ]
  },
  {
   "cell_type": "code",
   "execution_count": 211,
   "metadata": {
    "collapsed": false
   },
   "outputs": [],
   "source": [
    "\n",
    "def ngrams(string, n=2):\n",
    "    string = re.sub(r'[,-./]|\\sBD',r'', string)\n",
    "    ngrams = zip(*[string[i:] for i in range(n)])\n",
    "    return [''.join(ngram) for ngram in ngrams]\n",
    "\n",
    "\n",
    "def split_ngram(string,n=2):\n",
    "        \"\"\"Normalize string and split in n-grams constaing n characters.\"\"\"\n",
    "        string_ = string.lower()\n",
    "        string = [string_[i:i+n] for i in range(0, len(string_), n)]\n",
    "        return string\n",
    "    \n",
    "\n",
    "def dice_coefficient(a, b,n=2):\n",
    "    if isinstance(a,str) & isinstance(b,str):\n",
    "        a = split_ngram(a,n)\n",
    "        b = split_ngram(b,n)\n",
    "        \n",
    "    \"\"\"dice coefficient 2nt/na + nb.\"\"\"\n",
    "    a_bigrams = set(a)\n",
    "    b_bigrams = set(b)\n",
    "    overlap = len(a_bigrams & b_bigrams)\n",
    "    return overlap * 2.0/(len(a_bigrams) + len(b_bigrams))\n"
   ]
  },
  {
   "cell_type": "code",
   "execution_count": 52,
   "metadata": {
    "collapsed": false
   },
   "outputs": [
    {
     "data": {
      "text/html": [
       "<div>\n",
       "<style>\n",
       "    .dataframe thead tr:only-child th {\n",
       "        text-align: right;\n",
       "    }\n",
       "\n",
       "    .dataframe thead th {\n",
       "        text-align: left;\n",
       "    }\n",
       "\n",
       "    .dataframe tbody tr th {\n",
       "        vertical-align: top;\n",
       "    }\n",
       "</style>\n",
       "<table border=\"1\" class=\"dataframe\">\n",
       "  <thead>\n",
       "    <tr style=\"text-align: right;\">\n",
       "      <th></th>\n",
       "      <th>Id</th>\n",
       "      <th>Name</th>\n",
       "      <th>Year</th>\n",
       "      <th>Release Date</th>\n",
       "      <th>Director</th>\n",
       "      <th>Creator</th>\n",
       "      <th>Actors</th>\n",
       "      <th>Cast</th>\n",
       "      <th>Language</th>\n",
       "      <th>Country</th>\n",
       "      <th>Duration</th>\n",
       "      <th>RatingValue</th>\n",
       "      <th>RatingCount</th>\n",
       "      <th>ReviewCount</th>\n",
       "      <th>Genre</th>\n",
       "      <th>Filming Locations</th>\n",
       "      <th>Description</th>\n",
       "    </tr>\n",
       "  </thead>\n",
       "  <tbody>\n",
       "  </tbody>\n",
       "</table>\n",
       "</div>"
      ],
      "text/plain": [
       "Empty DataFrame\n",
       "Columns: [Id, Name, Year, Release Date, Director, Creator, Actors, Cast, Language, Country, Duration, RatingValue, RatingCount, ReviewCount, Genre, Filming Locations, Description]\n",
       "Index: []"
      ]
     },
     "execution_count": 52,
     "metadata": {},
     "output_type": "execute_result"
    }
   ],
   "source": [
    "\n",
    "rt.head(0)\n"
   ]
  },
  {
   "cell_type": "code",
   "execution_count": 53,
   "metadata": {
    "collapsed": false
   },
   "outputs": [
    {
     "data": {
      "text/html": [
       "<div>\n",
       "<style>\n",
       "    .dataframe thead tr:only-child th {\n",
       "        text-align: right;\n",
       "    }\n",
       "\n",
       "    .dataframe thead th {\n",
       "        text-align: left;\n",
       "    }\n",
       "\n",
       "    .dataframe tbody tr th {\n",
       "        vertical-align: top;\n",
       "    }\n",
       "</style>\n",
       "<table border=\"1\" class=\"dataframe\">\n",
       "  <thead>\n",
       "    <tr style=\"text-align: right;\">\n",
       "      <th></th>\n",
       "      <th>Id</th>\n",
       "      <th>Name</th>\n",
       "      <th>YearRange</th>\n",
       "      <th>ReleaseDate</th>\n",
       "      <th>Director</th>\n",
       "      <th>Creator</th>\n",
       "      <th>Cast</th>\n",
       "      <th>Duration</th>\n",
       "      <th>RatingValue</th>\n",
       "      <th>ContentRating</th>\n",
       "      <th>Genre</th>\n",
       "      <th>Url</th>\n",
       "      <th>Description</th>\n",
       "    </tr>\n",
       "  </thead>\n",
       "  <tbody>\n",
       "  </tbody>\n",
       "</table>\n",
       "</div>"
      ],
      "text/plain": [
       "Empty DataFrame\n",
       "Columns: [Id, Name, YearRange, ReleaseDate, Director, Creator, Cast, Duration, RatingValue, ContentRating, Genre, Url, Description]\n",
       "Index: []"
      ]
     },
     "execution_count": 53,
     "metadata": {},
     "output_type": "execute_result"
    }
   ],
   "source": [
    "im.head(0)\n"
   ]
  },
  {
   "cell_type": "code",
   "execution_count": 253,
   "metadata": {
    "collapsed": true
   },
   "outputs": [],
   "source": [
    "#Im : RT\n",
    "GT = {\n",
    "      \"Name\":\"Name\",\n",
    "      \"ReleaseDate\":\"Release Date\",\n",
    "      \"RatingValue\":\"RatingValue\",\n",
    "      \"Director\":\"Director\",\n",
    "      \"Creator\":\"Creator\",\n",
    "      \"YearRange\":\"Year\",\n",
    "      \"Genre\":\"Genre\",\n",
    "      \"Duration\":\"Duration\",\n",
    "      \"Cast\":\"Cast\",\n",
    "    \"Description\":\"Description\"\n",
    "     }"
   ]
  },
  {
   "cell_type": "code",
   "execution_count": 254,
   "metadata": {
    "collapsed": false
   },
   "outputs": [
    {
     "data": {
      "text/plain": [
       "0.8"
      ]
     },
     "execution_count": 254,
     "metadata": {},
     "output_type": "execute_result"
    }
   ],
   "source": [
    "dice_coefficient(\"Name\",\"Nameee\")"
   ]
  },
  {
   "cell_type": "code",
   "execution_count": 328,
   "metadata": {
    "collapsed": false
   },
   "outputs": [],
   "source": [
    "def get_mapping(table_a,table_b,treshold=0.5):\n",
    "    A =[ str(a) for a in table_a.columns]\n",
    "    B =[ str(b) for b in table_a.columns]\n",
    "    print (A.remove('Id'),B.remove('Id'))\n",
    "    rt_cl = [[ngrams(cl),cl]for cl in A]\n",
    "    im_cl = [[ngrams(cl),cl] for cl in B]\n",
    "    df = pd.DataFrame(columns=[\"rt\",\"im\",\"coeff\"])\n",
    "    for r,r_ in rt_cl:\n",
    "        for i,i_ in im_cl:\n",
    "            dc = dice_coefficient(r,i)\n",
    "            if dc > 0:\n",
    "                df = df.append(pd.Series([r_,i_,dc],index=[\"rt\",\"im\",\"coeff\"]),ignore_index=True)\n",
    "    tresh = df.loc[df['coeff'] >= treshold];\n",
    "    #tresh.groupby(['im','rt'], sort=False)['rt','coeff'].max()\n",
    "    return dict(zip(tresh[\"im\"],tresh['rt'])) \n",
    "\n",
    "\n",
    "    "
   ]
  },
  {
   "cell_type": "code",
   "execution_count": null,
   "metadata": {
    "collapsed": false
   },
   "outputs": [],
   "source": []
  },
  {
   "cell_type": "code",
   "execution_count": 329,
   "metadata": {
    "collapsed": false,
    "scrolled": true
   },
   "outputs": [
    {
     "data": {
      "text/html": [
       "<div>\n",
       "<style>\n",
       "    .dataframe thead tr:only-child th {\n",
       "        text-align: right;\n",
       "    }\n",
       "\n",
       "    .dataframe thead th {\n",
       "        text-align: left;\n",
       "    }\n",
       "\n",
       "    .dataframe tbody tr th {\n",
       "        vertical-align: top;\n",
       "    }\n",
       "</style>\n",
       "<table border=\"1\" class=\"dataframe\">\n",
       "  <thead>\n",
       "    <tr style=\"text-align: right;\">\n",
       "      <th></th>\n",
       "      <th>rt</th>\n",
       "      <th>im</th>\n",
       "      <th>coeff</th>\n",
       "    </tr>\n",
       "  </thead>\n",
       "  <tbody>\n",
       "    <tr>\n",
       "      <th>0</th>\n",
       "      <td>Id</td>\n",
       "      <td>Id</td>\n",
       "      <td>1.000000</td>\n",
       "    </tr>\n",
       "    <tr>\n",
       "      <th>1</th>\n",
       "      <td>Name</td>\n",
       "      <td>Name</td>\n",
       "      <td>1.000000</td>\n",
       "    </tr>\n",
       "    <tr>\n",
       "      <th>2</th>\n",
       "      <td>Year</td>\n",
       "      <td>YearRange</td>\n",
       "      <td>0.545455</td>\n",
       "    </tr>\n",
       "    <tr>\n",
       "      <th>3</th>\n",
       "      <td>Year</td>\n",
       "      <td>ReleaseDate</td>\n",
       "      <td>0.153846</td>\n",
       "    </tr>\n",
       "    <tr>\n",
       "      <th>4</th>\n",
       "      <td>Year</td>\n",
       "      <td>Creator</td>\n",
       "      <td>0.222222</td>\n",
       "    </tr>\n",
       "    <tr>\n",
       "      <th>5</th>\n",
       "      <td>Release Date</td>\n",
       "      <td>YearRange</td>\n",
       "      <td>0.105263</td>\n",
       "    </tr>\n",
       "    <tr>\n",
       "      <th>6</th>\n",
       "      <td>Release Date</td>\n",
       "      <td>ReleaseDate</td>\n",
       "      <td>0.857143</td>\n",
       "    </tr>\n",
       "    <tr>\n",
       "      <th>7</th>\n",
       "      <td>Release Date</td>\n",
       "      <td>Creator</td>\n",
       "      <td>0.235294</td>\n",
       "    </tr>\n",
       "    <tr>\n",
       "      <th>8</th>\n",
       "      <td>Release Date</td>\n",
       "      <td>Cast</td>\n",
       "      <td>0.142857</td>\n",
       "    </tr>\n",
       "    <tr>\n",
       "      <th>9</th>\n",
       "      <td>Release Date</td>\n",
       "      <td>Duration</td>\n",
       "      <td>0.111111</td>\n",
       "    </tr>\n",
       "    <tr>\n",
       "      <th>10</th>\n",
       "      <td>Release Date</td>\n",
       "      <td>RatingValue</td>\n",
       "      <td>0.095238</td>\n",
       "    </tr>\n",
       "    <tr>\n",
       "      <th>11</th>\n",
       "      <td>Release Date</td>\n",
       "      <td>ContentRating</td>\n",
       "      <td>0.181818</td>\n",
       "    </tr>\n",
       "    <tr>\n",
       "      <th>12</th>\n",
       "      <td>Director</td>\n",
       "      <td>Director</td>\n",
       "      <td>1.000000</td>\n",
       "    </tr>\n",
       "    <tr>\n",
       "      <th>13</th>\n",
       "      <td>Director</td>\n",
       "      <td>Creator</td>\n",
       "      <td>0.461538</td>\n",
       "    </tr>\n",
       "    <tr>\n",
       "      <th>14</th>\n",
       "      <td>Director</td>\n",
       "      <td>Genre</td>\n",
       "      <td>0.181818</td>\n",
       "    </tr>\n",
       "    <tr>\n",
       "      <th>15</th>\n",
       "      <td>Creator</td>\n",
       "      <td>YearRange</td>\n",
       "      <td>0.142857</td>\n",
       "    </tr>\n",
       "    <tr>\n",
       "      <th>16</th>\n",
       "      <td>Creator</td>\n",
       "      <td>ReleaseDate</td>\n",
       "      <td>0.250000</td>\n",
       "    </tr>\n",
       "    <tr>\n",
       "      <th>17</th>\n",
       "      <td>Creator</td>\n",
       "      <td>Director</td>\n",
       "      <td>0.461538</td>\n",
       "    </tr>\n",
       "    <tr>\n",
       "      <th>18</th>\n",
       "      <td>Creator</td>\n",
       "      <td>Creator</td>\n",
       "      <td>1.000000</td>\n",
       "    </tr>\n",
       "    <tr>\n",
       "      <th>19</th>\n",
       "      <td>Creator</td>\n",
       "      <td>Duration</td>\n",
       "      <td>0.153846</td>\n",
       "    </tr>\n",
       "    <tr>\n",
       "      <th>20</th>\n",
       "      <td>Creator</td>\n",
       "      <td>RatingValue</td>\n",
       "      <td>0.125000</td>\n",
       "    </tr>\n",
       "    <tr>\n",
       "      <th>21</th>\n",
       "      <td>Creator</td>\n",
       "      <td>ContentRating</td>\n",
       "      <td>0.117647</td>\n",
       "    </tr>\n",
       "    <tr>\n",
       "      <th>22</th>\n",
       "      <td>Creator</td>\n",
       "      <td>Genre</td>\n",
       "      <td>0.200000</td>\n",
       "    </tr>\n",
       "    <tr>\n",
       "      <th>23</th>\n",
       "      <td>Actors</td>\n",
       "      <td>Director</td>\n",
       "      <td>0.500000</td>\n",
       "    </tr>\n",
       "    <tr>\n",
       "      <th>24</th>\n",
       "      <td>Actors</td>\n",
       "      <td>Creator</td>\n",
       "      <td>0.363636</td>\n",
       "    </tr>\n",
       "    <tr>\n",
       "      <th>25</th>\n",
       "      <td>Cast</td>\n",
       "      <td>ReleaseDate</td>\n",
       "      <td>0.153846</td>\n",
       "    </tr>\n",
       "    <tr>\n",
       "      <th>26</th>\n",
       "      <td>Cast</td>\n",
       "      <td>Cast</td>\n",
       "      <td>1.000000</td>\n",
       "    </tr>\n",
       "    <tr>\n",
       "      <th>27</th>\n",
       "      <td>Language</td>\n",
       "      <td>YearRange</td>\n",
       "      <td>0.400000</td>\n",
       "    </tr>\n",
       "    <tr>\n",
       "      <th>28</th>\n",
       "      <td>Language</td>\n",
       "      <td>RatingValue</td>\n",
       "      <td>0.117647</td>\n",
       "    </tr>\n",
       "    <tr>\n",
       "      <th>29</th>\n",
       "      <td>Language</td>\n",
       "      <td>ContentRating</td>\n",
       "      <td>0.111111</td>\n",
       "    </tr>\n",
       "    <tr>\n",
       "      <th>...</th>\n",
       "      <td>...</td>\n",
       "      <td>...</td>\n",
       "      <td>...</td>\n",
       "    </tr>\n",
       "    <tr>\n",
       "      <th>38</th>\n",
       "      <td>RatingValue</td>\n",
       "      <td>ReleaseDate</td>\n",
       "      <td>0.100000</td>\n",
       "    </tr>\n",
       "    <tr>\n",
       "      <th>39</th>\n",
       "      <td>RatingValue</td>\n",
       "      <td>Creator</td>\n",
       "      <td>0.125000</td>\n",
       "    </tr>\n",
       "    <tr>\n",
       "      <th>40</th>\n",
       "      <td>RatingValue</td>\n",
       "      <td>Duration</td>\n",
       "      <td>0.235294</td>\n",
       "    </tr>\n",
       "    <tr>\n",
       "      <th>41</th>\n",
       "      <td>RatingValue</td>\n",
       "      <td>RatingValue</td>\n",
       "      <td>1.000000</td>\n",
       "    </tr>\n",
       "    <tr>\n",
       "      <th>42</th>\n",
       "      <td>RatingValue</td>\n",
       "      <td>ContentRating</td>\n",
       "      <td>0.476190</td>\n",
       "    </tr>\n",
       "    <tr>\n",
       "      <th>43</th>\n",
       "      <td>RatingValue</td>\n",
       "      <td>Description</td>\n",
       "      <td>0.100000</td>\n",
       "    </tr>\n",
       "    <tr>\n",
       "      <th>44</th>\n",
       "      <td>RatingCount</td>\n",
       "      <td>YearRange</td>\n",
       "      <td>0.222222</td>\n",
       "    </tr>\n",
       "    <tr>\n",
       "      <th>45</th>\n",
       "      <td>RatingCount</td>\n",
       "      <td>ReleaseDate</td>\n",
       "      <td>0.100000</td>\n",
       "    </tr>\n",
       "    <tr>\n",
       "      <th>46</th>\n",
       "      <td>RatingCount</td>\n",
       "      <td>Creator</td>\n",
       "      <td>0.125000</td>\n",
       "    </tr>\n",
       "    <tr>\n",
       "      <th>47</th>\n",
       "      <td>RatingCount</td>\n",
       "      <td>Duration</td>\n",
       "      <td>0.235294</td>\n",
       "    </tr>\n",
       "    <tr>\n",
       "      <th>48</th>\n",
       "      <td>RatingCount</td>\n",
       "      <td>RatingValue</td>\n",
       "      <td>0.500000</td>\n",
       "    </tr>\n",
       "    <tr>\n",
       "      <th>49</th>\n",
       "      <td>RatingCount</td>\n",
       "      <td>ContentRating</td>\n",
       "      <td>0.666667</td>\n",
       "    </tr>\n",
       "    <tr>\n",
       "      <th>50</th>\n",
       "      <td>RatingCount</td>\n",
       "      <td>Description</td>\n",
       "      <td>0.100000</td>\n",
       "    </tr>\n",
       "    <tr>\n",
       "      <th>51</th>\n",
       "      <td>ReviewCount</td>\n",
       "      <td>ReleaseDate</td>\n",
       "      <td>0.100000</td>\n",
       "    </tr>\n",
       "    <tr>\n",
       "      <th>52</th>\n",
       "      <td>ReviewCount</td>\n",
       "      <td>ContentRating</td>\n",
       "      <td>0.190476</td>\n",
       "    </tr>\n",
       "    <tr>\n",
       "      <th>53</th>\n",
       "      <td>Genre</td>\n",
       "      <td>Director</td>\n",
       "      <td>0.181818</td>\n",
       "    </tr>\n",
       "    <tr>\n",
       "      <th>54</th>\n",
       "      <td>Genre</td>\n",
       "      <td>Creator</td>\n",
       "      <td>0.200000</td>\n",
       "    </tr>\n",
       "    <tr>\n",
       "      <th>55</th>\n",
       "      <td>Genre</td>\n",
       "      <td>ContentRating</td>\n",
       "      <td>0.133333</td>\n",
       "    </tr>\n",
       "    <tr>\n",
       "      <th>56</th>\n",
       "      <td>Genre</td>\n",
       "      <td>Genre</td>\n",
       "      <td>1.000000</td>\n",
       "    </tr>\n",
       "    <tr>\n",
       "      <th>57</th>\n",
       "      <td>Filming Locations</td>\n",
       "      <td>YearRange</td>\n",
       "      <td>0.083333</td>\n",
       "    </tr>\n",
       "    <tr>\n",
       "      <th>58</th>\n",
       "      <td>Filming Locations</td>\n",
       "      <td>ReleaseDate</td>\n",
       "      <td>0.076923</td>\n",
       "    </tr>\n",
       "    <tr>\n",
       "      <th>59</th>\n",
       "      <td>Filming Locations</td>\n",
       "      <td>Creator</td>\n",
       "      <td>0.090909</td>\n",
       "    </tr>\n",
       "    <tr>\n",
       "      <th>60</th>\n",
       "      <td>Filming Locations</td>\n",
       "      <td>Duration</td>\n",
       "      <td>0.347826</td>\n",
       "    </tr>\n",
       "    <tr>\n",
       "      <th>61</th>\n",
       "      <td>Filming Locations</td>\n",
       "      <td>RatingValue</td>\n",
       "      <td>0.307692</td>\n",
       "    </tr>\n",
       "    <tr>\n",
       "      <th>62</th>\n",
       "      <td>Filming Locations</td>\n",
       "      <td>ContentRating</td>\n",
       "      <td>0.370370</td>\n",
       "    </tr>\n",
       "    <tr>\n",
       "      <th>63</th>\n",
       "      <td>Filming Locations</td>\n",
       "      <td>Description</td>\n",
       "      <td>0.230769</td>\n",
       "    </tr>\n",
       "    <tr>\n",
       "      <th>64</th>\n",
       "      <td>Description</td>\n",
       "      <td>Duration</td>\n",
       "      <td>0.352941</td>\n",
       "    </tr>\n",
       "    <tr>\n",
       "      <th>65</th>\n",
       "      <td>Description</td>\n",
       "      <td>RatingValue</td>\n",
       "      <td>0.100000</td>\n",
       "    </tr>\n",
       "    <tr>\n",
       "      <th>66</th>\n",
       "      <td>Description</td>\n",
       "      <td>ContentRating</td>\n",
       "      <td>0.190476</td>\n",
       "    </tr>\n",
       "    <tr>\n",
       "      <th>67</th>\n",
       "      <td>Description</td>\n",
       "      <td>Description</td>\n",
       "      <td>1.000000</td>\n",
       "    </tr>\n",
       "  </tbody>\n",
       "</table>\n",
       "<p>68 rows × 3 columns</p>\n",
       "</div>"
      ],
      "text/plain": [
       "                   rt             im     coeff\n",
       "0                  Id             Id  1.000000\n",
       "1                Name           Name  1.000000\n",
       "2                Year      YearRange  0.545455\n",
       "3                Year    ReleaseDate  0.153846\n",
       "4                Year        Creator  0.222222\n",
       "5        Release Date      YearRange  0.105263\n",
       "6        Release Date    ReleaseDate  0.857143\n",
       "7        Release Date        Creator  0.235294\n",
       "8        Release Date           Cast  0.142857\n",
       "9        Release Date       Duration  0.111111\n",
       "10       Release Date    RatingValue  0.095238\n",
       "11       Release Date  ContentRating  0.181818\n",
       "12           Director       Director  1.000000\n",
       "13           Director        Creator  0.461538\n",
       "14           Director          Genre  0.181818\n",
       "15            Creator      YearRange  0.142857\n",
       "16            Creator    ReleaseDate  0.250000\n",
       "17            Creator       Director  0.461538\n",
       "18            Creator        Creator  1.000000\n",
       "19            Creator       Duration  0.153846\n",
       "20            Creator    RatingValue  0.125000\n",
       "21            Creator  ContentRating  0.117647\n",
       "22            Creator          Genre  0.200000\n",
       "23             Actors       Director  0.500000\n",
       "24             Actors        Creator  0.363636\n",
       "25               Cast    ReleaseDate  0.153846\n",
       "26               Cast           Cast  1.000000\n",
       "27           Language      YearRange  0.400000\n",
       "28           Language    RatingValue  0.117647\n",
       "29           Language  ContentRating  0.111111\n",
       "..                ...            ...       ...\n",
       "38        RatingValue    ReleaseDate  0.100000\n",
       "39        RatingValue        Creator  0.125000\n",
       "40        RatingValue       Duration  0.235294\n",
       "41        RatingValue    RatingValue  1.000000\n",
       "42        RatingValue  ContentRating  0.476190\n",
       "43        RatingValue    Description  0.100000\n",
       "44        RatingCount      YearRange  0.222222\n",
       "45        RatingCount    ReleaseDate  0.100000\n",
       "46        RatingCount        Creator  0.125000\n",
       "47        RatingCount       Duration  0.235294\n",
       "48        RatingCount    RatingValue  0.500000\n",
       "49        RatingCount  ContentRating  0.666667\n",
       "50        RatingCount    Description  0.100000\n",
       "51        ReviewCount    ReleaseDate  0.100000\n",
       "52        ReviewCount  ContentRating  0.190476\n",
       "53              Genre       Director  0.181818\n",
       "54              Genre        Creator  0.200000\n",
       "55              Genre  ContentRating  0.133333\n",
       "56              Genre          Genre  1.000000\n",
       "57  Filming Locations      YearRange  0.083333\n",
       "58  Filming Locations    ReleaseDate  0.076923\n",
       "59  Filming Locations        Creator  0.090909\n",
       "60  Filming Locations       Duration  0.347826\n",
       "61  Filming Locations    RatingValue  0.307692\n",
       "62  Filming Locations  ContentRating  0.370370\n",
       "63  Filming Locations    Description  0.230769\n",
       "64        Description       Duration  0.352941\n",
       "65        Description    RatingValue  0.100000\n",
       "66        Description  ContentRating  0.190476\n",
       "67        Description    Description  1.000000\n",
       "\n",
       "[68 rows x 3 columns]"
      ]
     },
     "execution_count": 329,
     "metadata": {},
     "output_type": "execute_result"
    }
   ],
   "source": [
    "df"
   ]
  },
  {
   "cell_type": "code",
   "execution_count": 330,
   "metadata": {
    "collapsed": false
   },
   "outputs": [
    {
     "data": {
      "text/plain": [
       "rt            im         \n",
       "Cast          Cast           1.000000\n",
       "Creator       Creator        1.000000\n",
       "Description   Description    1.000000\n",
       "Director      Director       1.000000\n",
       "Duration      Duration       1.000000\n",
       "Genre         Genre          1.000000\n",
       "Id            Id             1.000000\n",
       "Name          Name           1.000000\n",
       "RatingValue   RatingValue    1.000000\n",
       "Release Date  ReleaseDate    0.857143\n",
       "Name: coeff, dtype: float64"
      ]
     },
     "execution_count": 330,
     "metadata": {},
     "output_type": "execute_result"
    }
   ],
   "source": [
    "tresh = df.loc[df['coeff'] > 0.7]\n",
    "tresh.groupby(['rt',\"im\"], sort=True)['coeff'].max()\n"
   ]
  },
  {
   "cell_type": "code",
   "execution_count": null,
   "metadata": {
    "collapsed": false
   },
   "outputs": [],
   "source": [
    "\n"
   ]
  },
  {
   "cell_type": "code",
   "execution_count": null,
   "metadata": {
    "collapsed": false
   },
   "outputs": [],
   "source": []
  },
  {
   "cell_type": "code",
   "execution_count": 331,
   "metadata": {
    "collapsed": false
   },
   "outputs": [
    {
     "name": "stdout",
     "output_type": "stream",
     "text": [
      "(None, None)\n"
     ]
    },
    {
     "data": {
      "text/plain": [
       "{'Actors': 'Actors',\n",
       " 'Cast': 'Cast',\n",
       " 'Country': 'Country',\n",
       " 'Creator': 'Creator',\n",
       " 'Description': 'Description',\n",
       " 'Director': 'Director',\n",
       " 'Duration': 'Duration',\n",
       " 'Filming Locations': 'Filming Locations',\n",
       " 'Genre': 'Genre',\n",
       " 'Language': 'Language',\n",
       " 'Name': 'Name',\n",
       " 'RatingCount': 'RatingCount',\n",
       " 'RatingValue': 'RatingValue',\n",
       " 'Release Date': 'Release Date',\n",
       " 'ReviewCount': 'ReviewCount',\n",
       " 'Year': 'Year'}"
      ]
     },
     "execution_count": 331,
     "metadata": {},
     "output_type": "execute_result"
    }
   ],
   "source": [
    "get_mapping(rt,im,0.8)"
   ]
  },
  {
   "cell_type": "code",
   "execution_count": null,
   "metadata": {
    "collapsed": false
   },
   "outputs": [],
   "source": [
    "GT.values()\n",
    "def compute_recall(mapping):\n",
    "    total_found =len(mapping.items())\n",
    "    return float(total_found/len(GT.items()))\n",
    "                 \n",
    "def compute_precision(mapping):\n",
    "    precision = set(mapping.items()) & set(GT.items())\n",
    "    true_matches = len(precision)\n",
    "    total_found =len(mapping.items())\n",
    "    return float(true_matches/total_found)\n",
    "\n",
    "x = get_mapping(rt,im,0.8)\n",
    "compute_precision(x)\n",
    "compute_recall(x)"
   ]
  },
  {
   "cell_type": "code",
   "execution_count": 317,
   "metadata": {
    "collapsed": false
   },
   "outputs": [
    {
     "data": {
      "text/plain": [
       "{('Actors', 'Actors'),\n",
       " ('Cast', 'Cast'),\n",
       " ('Country', 'Country'),\n",
       " ('Creator', 'Creator'),\n",
       " ('Description', 'Description'),\n",
       " ('Director', 'Director'),\n",
       " ('Duration', 'Duration'),\n",
       " ('Filming Locations', 'Filming Locations'),\n",
       " ('Genre', 'Genre'),\n",
       " ('Language', 'Language'),\n",
       " ('Name', 'Name'),\n",
       " ('RatingCount', 'RatingCount'),\n",
       " ('RatingValue', 'RatingValue'),\n",
       " ('Release Date', 'Release Date'),\n",
       " ('ReviewCount', 'ReviewCount'),\n",
       " ('Year', 'Year')}"
      ]
     },
     "execution_count": 317,
     "metadata": {},
     "output_type": "execute_result"
    }
   ],
   "source": [
    "set(x.items())\n"
   ]
  },
  {
   "cell_type": "code",
   "execution_count": 315,
   "metadata": {
    "collapsed": false
   },
   "outputs": [
    {
     "data": {
      "text/plain": [
       "[('ReleaseDate', 'Release Date'),\n",
       " ('Director', 'Director'),\n",
       " ('Cast', 'Cast'),\n",
       " ('Name', 'Name'),\n",
       " ('Creator', 'Creator'),\n",
       " ('Genre', 'Genre'),\n",
       " ('Description', 'Description'),\n",
       " ('Duration', 'Duration'),\n",
       " ('YearRange', 'Year'),\n",
       " ('RatingValue', 'RatingValue')]"
      ]
     },
     "execution_count": 315,
     "metadata": {},
     "output_type": "execute_result"
    }
   ],
   "source": [
    "GT.items()"
   ]
  },
  {
   "cell_type": "code",
   "execution_count": 316,
   "metadata": {
    "collapsed": false
   },
   "outputs": [
    {
     "data": {
      "text/plain": [
       "{('Cast', 'Cast'),\n",
       " ('Creator', 'Creator'),\n",
       " ('Description', 'Description'),\n",
       " ('Director', 'Director'),\n",
       " ('Duration', 'Duration'),\n",
       " ('Genre', 'Genre'),\n",
       " ('Name', 'Name'),\n",
       " ('RatingValue', 'RatingValue')}"
      ]
     },
     "execution_count": 316,
     "metadata": {},
     "output_type": "execute_result"
    }
   ],
   "source": [
    "set(x.items()) & set(GT.items())"
   ]
  },
  {
   "cell_type": "code",
   "execution_count": null,
   "metadata": {
    "collapsed": true
   },
   "outputs": [],
   "source": []
  },
  {
   "cell_type": "code",
   "execution_count": null,
   "metadata": {
    "collapsed": true
   },
   "outputs": [],
   "source": []
  },
  {
   "cell_type": "code",
   "execution_count": null,
   "metadata": {
    "collapsed": true
   },
   "outputs": [],
   "source": []
  }
 ],
 "metadata": {
  "kernelspec": {
   "display_name": "Python 2",
   "language": "python",
   "name": "python2"
  },
  "language_info": {
   "codemirror_mode": {
    "name": "ipython",
    "version": 2
   },
   "file_extension": ".py",
   "mimetype": "text/x-python",
   "name": "python",
   "nbconvert_exporter": "python",
   "pygments_lexer": "ipython2",
   "version": "2.7.13"
  }
 },
 "nbformat": 4,
 "nbformat_minor": 2
}
